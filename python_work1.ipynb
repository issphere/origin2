{
  "nbformat": 4,
  "nbformat_minor": 0,
  "metadata": {
    "colab": {
      "provenance": [],
      "authorship_tag": "ABX9TyM9atE2y/wc5YhyP5fOsV1t",
      "include_colab_link": true
    },
    "kernelspec": {
      "name": "python3",
      "display_name": "Python 3"
    },
    "language_info": {
      "name": "python"
    }
  },
  "cells": [
    {
      "cell_type": "markdown",
      "metadata": {
        "id": "view-in-github",
        "colab_type": "text"
      },
      "source": [
        "<a href=\"https://colab.research.google.com/github/issphere/origin2/blob/master/python_work1.ipynb\" target=\"_parent\"><img src=\"https://colab.research.google.com/assets/colab-badge.svg\" alt=\"Open In Colab\"/></a>"
      ]
    },
    {
      "cell_type": "code",
      "source": [
        "phrase_1 = 'Насколько проще было бы писать программы, если бы не заказчики'\n",
        "phrase_2 = '640Кб должно хватить для любых задач. Билл Гейтс (по легенде)'\n",
        "\n",
        "if len (phrase_1) <= len (phrase_2):\n",
        "    print ('Фраза 2 длиннее фразы 1')\n",
        "elif len (phrase_2) <= len (phrase_1):\n",
        "    print ('Фраза 1 длиннее фразы 1')\n",
        "else:\n",
        "    print ('Фразы равной длины')"
      ],
      "metadata": {
        "colab": {
          "base_uri": "https://localhost:8080/"
        },
        "id": "OqjMQL9rLjDS",
        "outputId": "03c3db49-af27-4142-e408-996221a9f829"
      },
      "execution_count": 9,
      "outputs": [
        {
          "output_type": "stream",
          "name": "stdout",
          "text": [
            "Фраза 1 длиннее фразы 1\n"
          ]
        }
      ]
    },
    {
      "cell_type": "code",
      "source": [
        "year = 2020\n",
        "\n",
        "if year % 4 == 0:\n",
        "    print('Високосный год')\n",
        "else:\n",
        "    print('Обычный год')\n"
      ],
      "metadata": {
        "colab": {
          "base_uri": "https://localhost:8080/"
        },
        "id": "0cgweO5IMZKH",
        "outputId": "e1ca7828-24c2-4dce-9666-a469abd2652b"
      },
      "execution_count": 12,
      "outputs": [
        {
          "output_type": "stream",
          "name": "stdout",
          "text": [
            "Високосный год\n"
          ]
        }
      ]
    },
    {
      "cell_type": "code",
      "source": [
        "day = int(input('Введите день: '))\n",
        "month = (input('Введите месяц: '))\n",
        "if (month == 'март' and 20 <= day <= 31) or (month == 'апрель' and 1 <= day <= 20):\n",
        "    print('Ваш знак зодиака: Овен')\n",
        "elif (month == 'апрель' and 21 <= day <= 30) or (month == 'май' and 1 <= day <= 21):\n",
        "    print('Ваш знак зодиака: Телец')\n",
        "elif (month == 'май' and 22 <= day <= 31) or (month == 'июнь' and 1 <= day <= 21):\n",
        "    print('Ваш знак зодиака: Близнецы')\n",
        "elif (month == 'июнь' and 22 <= day <= 30) or (month == 'июль' and 1 <= day <= 22):\n",
        "    print('Ваш знак зодиака: Рак')\n",
        "elif (month == 'июль' and 23 <= day <= 31) or (month == 'август' and 1 <= day <= 23):\n",
        "    print('Ваш знак зодиака: Лев')\n",
        "elif (month == 'август' and 24 <= day <= 31) or (month == 'сентябрь' and 1 <= day <= 22):\n",
        "    print('Ваш знак зодиака: Дева')\n",
        "elif (month == 'сентябрь' and 23 <= day <= 30) or (month == 'октябрь' and 1 <= day <= 22):\n",
        "    print('Ваш знак зодиака: Весы')\n",
        "elif (month == 'октябрь' and 23 <= day <= 31) or (month == 'ноябрь' and 1 <= day <= 22):\n",
        "    print('Ваш знак зодиака: Скорпион')\n",
        "elif (month == 'ноябрь' and 22 <= day <= 30) or (month == 'декабрь' and 1 <= day <= 21):\n",
        "    print('Ваш знак зодиака: Стрелец')\n",
        "elif (month == 'декабрь' and 22 <= day <= 31) or (month == 'январь' and 1 <= day <= 20):\n",
        "    print('Ваш знак зодиака: Козерог')\n",
        "elif (month == 'январь' and 21 <= day <= 31) or (month == 'февраль' and 1 <= day <= 19):\n",
        "    print('Ваш знак зодиака: Водолей')\n",
        "else:\n",
        "    print('Ваш знак зодиака: Рыбы')"
      ],
      "metadata": {
        "colab": {
          "base_uri": "https://localhost:8080/"
        },
        "id": "nwBorR7gN68m",
        "outputId": "7e0824c9-8633-4435-fa2d-075cc477fa1f"
      },
      "execution_count": 17,
      "outputs": [
        {
          "output_type": "stream",
          "name": "stdout",
          "text": [
            "Введите день: 15\n",
            "Введите месяц: май\n",
            "Ваш знак зодиака: Телец\n"
          ]
        }
      ]
    },
    {
      "cell_type": "code",
      "source": [
        "width = 15\n",
        "length = 300\n",
        "height = 15\n",
        "\n",
        "if width <= 15 and length <= 15 and height <= 15:\n",
        "    print (\"Коробка №1\")\n",
        "elif (width >= 200) or (length >= 200) or (height >= 200):\n",
        "    print (\"Упаковка для лыж\")\n",
        "elif (15 < width <= 50) or (15 < length <= 50) or (15 < height <= 50):\n",
        "    print (\"Коробка №2\")\n",
        "else:\n",
        "    print (\"Коробка №2\")"
      ],
      "metadata": {
        "colab": {
          "base_uri": "https://localhost:8080/"
        },
        "id": "P4en1jRnVc0P",
        "outputId": "53f1c472-a24f-4d69-d238-9dcf37954647"
      },
      "execution_count": 20,
      "outputs": [
        {
          "output_type": "stream",
          "name": "stdout",
          "text": [
            "Упаковка для лыж\n"
          ]
        }
      ]
    }
  ]
}