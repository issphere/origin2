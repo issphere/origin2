{
  "nbformat": 4,
  "nbformat_minor": 0,
  "metadata": {
    "colab": {
      "provenance": [],
      "authorship_tag": "ABX9TyPos7Cawz3mRK0V7+YERC/6",
      "include_colab_link": true
    },
    "kernelspec": {
      "name": "python3",
      "display_name": "Python 3"
    },
    "language_info": {
      "name": "python"
    }
  },
  "cells": [
    {
      "cell_type": "markdown",
      "metadata": {
        "id": "view-in-github",
        "colab_type": "text"
      },
      "source": [
        "<a href=\"https://colab.research.google.com/github/issphere/origin2/blob/master/python_work2.ipynb\" target=\"_parent\"><img src=\"https://colab.research.google.com/assets/colab-badge.svg\" alt=\"Open In Colab\"/></a>"
      ]
    },
    {
      "cell_type": "code",
      "execution_count": 27,
      "metadata": {
        "colab": {
          "base_uri": "https://localhost:8080/"
        },
        "id": "5HPxZA-5tkFe",
        "outputId": "1b236ebc-277c-4da7-a7d8-a8e45badac93"
      },
      "outputs": [
        {
          "output_type": "stream",
          "name": "stdout",
          "text": [
            "test\n",
            "es\n"
          ]
        }
      ],
      "source": [
        "word = input ()\n",
        "rez1 = int (len (word))\n",
        "rez2 = int (rez1 / 2)\n",
        "rez3 = int (rez2-1)\n",
        "\n",
        "if rez1 % 2 != 0:\n",
        "    print (word [rez2])\n",
        "else: print (word [rez3] + word [rez2])"
      ]
    },
    {
      "cell_type": "code",
      "source": [
        "list = []\n",
        "num = int(input ('введите одно число: ' ))\n",
        "\n",
        "while num != 0:\n",
        "    list.append (num)\n",
        "    print (list)\n",
        "    num = int(input ('введите еще одно число: ' ))\n",
        "esle: print (sum (list))\n"
      ],
      "metadata": {
        "colab": {
          "base_uri": "https://localhost:8080/"
        },
        "id": "1CJFv8t2PwcP",
        "outputId": "e6c2c00b-be0f-4d53-a79a-c54e25286d1c"
      },
      "execution_count": 54,
      "outputs": [
        {
          "output_type": "stream",
          "name": "stdout",
          "text": [
            "введите одно число: 5\n",
            "[5]\n",
            "введите еще одно число: 7\n",
            "[5, 7]\n",
            "введите еще одно число: 0\n",
            "12\n"
          ]
        }
      ]
    },
    {
      "cell_type": "code",
      "source": [
        "boys = input ([])\n",
        "girls = input ([])\n",
        "\n",
        "if len(boys) != len(girls):\n",
        "    print ('Внимание, кто-то может остаться без пары!')\n",
        "else: duet = zip (boys, girls)\n",
        "print( duet )\n",
        "list(duet)"
      ],
      "metadata": {
        "colab": {
          "base_uri": "https://localhost:8080/",
          "height": 253
        },
        "id": "hBjt3lnshueh",
        "outputId": "19de8689-3c1c-43e5-e250-c6da7c53cd4b"
      },
      "execution_count": 99,
      "outputs": [
        {
          "output_type": "stream",
          "name": "stdout",
          "text": [
            "[]'Kate', 'Liza', 'Kira', 'Emma', 'Trisha'\n",
            "[]'Kate', 'Liza', 'Kira', 'Emma', 'Trisha'\n",
            "<zip object at 0x7f20f0497e00>\n"
          ]
        },
        {
          "output_type": "error",
          "ename": "TypeError",
          "evalue": "ignored",
          "traceback": [
            "\u001b[0;31m---------------------------------------------------------------------------\u001b[0m",
            "\u001b[0;31mTypeError\u001b[0m                                 Traceback (most recent call last)",
            "\u001b[0;32m<ipython-input-99-677de3a504ff>\u001b[0m in \u001b[0;36m<module>\u001b[0;34m\u001b[0m\n\u001b[1;32m      6\u001b[0m \u001b[0;32melse\u001b[0m\u001b[0;34m:\u001b[0m \u001b[0mduet\u001b[0m \u001b[0;34m=\u001b[0m \u001b[0mzip\u001b[0m \u001b[0;34m(\u001b[0m\u001b[0mboys\u001b[0m\u001b[0;34m,\u001b[0m \u001b[0mgirls\u001b[0m\u001b[0;34m)\u001b[0m\u001b[0;34m\u001b[0m\u001b[0;34m\u001b[0m\u001b[0m\n\u001b[1;32m      7\u001b[0m \u001b[0mprint\u001b[0m\u001b[0;34m(\u001b[0m \u001b[0mduet\u001b[0m \u001b[0;34m)\u001b[0m\u001b[0;34m\u001b[0m\u001b[0;34m\u001b[0m\u001b[0m\n\u001b[0;32m----> 8\u001b[0;31m \u001b[0mlist\u001b[0m\u001b[0;34m(\u001b[0m\u001b[0mduet\u001b[0m\u001b[0;34m)\u001b[0m\u001b[0;34m\u001b[0m\u001b[0;34m\u001b[0m\u001b[0m\n\u001b[0m",
            "\u001b[0;31mTypeError\u001b[0m: 'list' object is not callable"
          ]
        }
      ]
    }
  ]
}